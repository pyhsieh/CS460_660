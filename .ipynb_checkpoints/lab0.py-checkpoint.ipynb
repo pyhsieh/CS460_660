{
 "cells": [
  {
   "cell_type": "code",
   "execution_count": null,
   "metadata": {
    "collapsed": true
   },
   "outputs": [],
   "source": [
    "import mysql.connector\n",
    "\n",
    "db = mysql.connector.connect(user='root', host='127.0.0.1', password='PoYu520UggU!', database='sakila')\n",
    "cursor = db.cursor()\n",
    "\n",
    "query = ('select film_id, title from film where film_id > 200;')\n",
    "\n",
    "cursor.execute(query)\n",
    "\n",
    "for info in cursor:\n",
    "\tprint( info)\n",
    "\n",
    "# remember to close db connection!\n",
    "cursor.close()\n",
    "db.close()\n",
    "\n",
    "#Hat tip to Craig Einstein"
   ]
  }
 ],
 "metadata": {
  "kernelspec": {
   "display_name": "Python 3",
   "language": "python",
   "name": "python3"
  },
  "language_info": {
   "codemirror_mode": {
    "name": "ipython",
    "version": 3
   },
   "file_extension": ".py",
   "mimetype": "text/x-python",
   "name": "python",
   "nbconvert_exporter": "python",
   "pygments_lexer": "ipython3",
   "version": "3.5.3"
  }
 },
 "nbformat": 4,
 "nbformat_minor": 2
}
